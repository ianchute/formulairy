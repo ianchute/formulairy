{
 "cells": [
  {
   "cell_type": "markdown",
   "id": "46798c4f",
   "metadata": {
    "papermill": {
     "duration": 0.004623,
     "end_time": "2025-03-13T00:46:25.706550",
     "exception": false,
     "start_time": "2025-03-13T00:46:25.701927",
     "status": "completed"
    },
    "tags": []
   },
   "source": [
    "# Step 1: Drug Formulary PDF Ingestion Pipeline - Extraction, Cleaning, and CSV Export\n",
    "\n",
    "This notebook automates the ingestion and processing of drug formulary PDFs (e.g., insurance plans, healthcare benefits) into structured data. It begins by importing dependencies and listing input files, then uses the `camelot-py` library to extract tabular data from PDFs, focusing on lattice-based table detection with tuned parameters. Extracted tables undergo header normalization to standardize column names, followed by merging fragmented tables into a unified dataset. The data is cleaned to remove inconsistent whitespace, and drug tier information (cost structures) is explicitly parsed. Finally, the processed data is exported to `out1.csv`, creating a reusable structured dataset from unstructured PDF formulary documents."
   ]
  },
  {
   "cell_type": "markdown",
   "id": "d7008461",
   "metadata": {
    "papermill": {
     "duration": 0.003722,
     "end_time": "2025-03-13T00:46:25.714538",
     "exception": false,
     "start_time": "2025-03-13T00:46:25.710816",
     "status": "completed"
    },
    "tags": []
   },
   "source": [
    "**Import Libraries and List Input Files**  \n",
    "Imports necessary libraries and lists all input files in the directory."
   ]
  },
  {
   "cell_type": "code",
   "execution_count": 1,
   "id": "6167f562",
   "metadata": {
    "_cell_guid": "b1076dfc-b9ad-4769-8c92-a6c4dae69d19",
    "_uuid": "8f2839f25d086af736a60e9eeb907d3b93b6e0e5",
    "execution": {
     "iopub.execute_input": "2025-03-13T00:46:25.724750Z",
     "iopub.status.busy": "2025-03-13T00:46:25.724345Z",
     "iopub.status.idle": "2025-03-13T00:46:26.635624Z",
     "shell.execute_reply": "2025-03-13T00:46:26.634566Z"
    },
    "papermill": {
     "duration": 0.918243,
     "end_time": "2025-03-13T00:46:26.637213",
     "exception": false,
     "start_time": "2025-03-13T00:46:25.718970",
     "status": "completed"
    },
    "tags": []
   },
   "outputs": [
    {
     "name": "stdout",
     "output_type": "stream",
     "text": [
      "/kaggle/input/kp-formularies/kaiser-permanente-insurance-company-ppo-and-out-of-area-indemnity-formulary-ca-en.pdf\n",
      "/kaggle/input/kp-formularies/postal-service-health-benefits-drug-formulary-scal-en.pdf\n",
      "/kaggle/input/kp-formularies/commercial-marketplace-formulary-ca-en.pdf\n",
      "/kaggle/input/kp-formularies/commercial-hmo-formulary-scal-en.pdf\n",
      "/kaggle/input/kp-formularies/deductible-epo-self-funded-plans-formulary-ca-en.pdf\n",
      "/kaggle/input/kp-formularies/kaiser-permanente-insurance-company-pos-formulary-ca-en.pdf\n"
     ]
    }
   ],
   "source": [
    "import numpy as np\n",
    "import pandas as pd\n",
    "import os\n",
    "for dirname, _, filenames in os.walk('/kaggle/input'):\n",
    "    for filename in filenames:\n",
    "        print(os.path.join(dirname, filename))"
   ]
  },
  {
   "cell_type": "markdown",
   "id": "8fe6f16a",
   "metadata": {
    "execution": {
     "iopub.execute_input": "2025-03-13T00:39:34.438914Z",
     "iopub.status.busy": "2025-03-13T00:39:34.438540Z",
     "iopub.status.idle": "2025-03-13T00:39:34.444988Z",
     "shell.execute_reply": "2025-03-13T00:39:34.443722Z",
     "shell.execute_reply.started": "2025-03-13T00:39:34.438888Z"
    },
    "papermill": {
     "duration": 0.003949,
     "end_time": "2025-03-13T00:46:26.645503",
     "exception": false,
     "start_time": "2025-03-13T00:46:26.641554",
     "status": "completed"
    },
    "tags": []
   },
   "source": [
    "**Install Camelot Library**  \n",
    "   Installs the `camelot-py` package for PDF table extraction."
   ]
  },
  {
   "cell_type": "code",
   "execution_count": 2,
   "id": "2693ed0a",
   "metadata": {
    "execution": {
     "iopub.execute_input": "2025-03-13T00:46:26.655048Z",
     "iopub.status.busy": "2025-03-13T00:46:26.654589Z",
     "iopub.status.idle": "2025-03-13T00:46:34.660015Z",
     "shell.execute_reply": "2025-03-13T00:46:34.658947Z"
    },
    "papermill": {
     "duration": 8.012381,
     "end_time": "2025-03-13T00:46:34.661988",
     "exception": false,
     "start_time": "2025-03-13T00:46:26.649607",
     "status": "completed"
    },
    "tags": []
   },
   "outputs": [
    {
     "name": "stdout",
     "output_type": "stream",
     "text": [
      "\u001b[2K     \u001b[90m━━━━━━━━━━━━━━━━━━━━━━━━━━━━━━━━━━━━━━━━\u001b[0m \u001b[32m48.2/48.2 kB\u001b[0m \u001b[31m1.5 MB/s\u001b[0m eta \u001b[36m0:00:00\u001b[0m\r\n",
      "\u001b[2K   \u001b[90m━━━━━━━━━━━━━━━━━━━━━━━━━━━━━━━━━━━━━━━━\u001b[0m \u001b[32m66.6/66.6 kB\u001b[0m \u001b[31m3.5 MB/s\u001b[0m eta \u001b[36m0:00:00\u001b[0m\r\n",
      "\u001b[2K   \u001b[90m━━━━━━━━━━━━━━━━━━━━━━━━━━━━━━━━━━━━━━━━\u001b[0m \u001b[32m5.6/5.6 MB\u001b[0m \u001b[31m49.0 MB/s\u001b[0m eta \u001b[36m0:00:00\u001b[0m\r\n",
      "\u001b[2K   \u001b[90m━━━━━━━━━━━━━━━━━━━━━━━━━━━━━━━━━━━━━━━━\u001b[0m \u001b[32m278.2/278.2 kB\u001b[0m \u001b[31m14.2 MB/s\u001b[0m eta \u001b[36m0:00:00\u001b[0m\r\n",
      "\u001b[2K   \u001b[90m━━━━━━━━━━━━━━━━━━━━━━━━━━━━━━━━━━━━━━━━\u001b[0m \u001b[32m2.9/2.9 MB\u001b[0m \u001b[31m62.0 MB/s\u001b[0m eta \u001b[36m0:00:00\u001b[0m\r\n",
      "\u001b[?25h"
     ]
    }
   ],
   "source": [
    "!pip install -q camelot-py"
   ]
  },
  {
   "cell_type": "markdown",
   "id": "f5198ac5",
   "metadata": {
    "papermill": {
     "duration": 0.00441,
     "end_time": "2025-03-13T00:46:34.671556",
     "exception": false,
     "start_time": "2025-03-13T00:46:34.667146",
     "status": "completed"
    },
    "tags": []
   },
   "source": [
    "**Extract Tables from PDF**  \n",
    "   Uses Camelot to extract all tables from the specified PDF with tuned parameters."
   ]
  },
  {
   "cell_type": "code",
   "execution_count": 3,
   "id": "ecd8b9f5",
   "metadata": {
    "execution": {
     "iopub.execute_input": "2025-03-13T00:46:34.682125Z",
     "iopub.status.busy": "2025-03-13T00:46:34.681783Z",
     "iopub.status.idle": "2025-03-13T00:46:58.948563Z",
     "shell.execute_reply": "2025-03-13T00:46:58.947529Z"
    },
    "papermill": {
     "duration": 24.274592,
     "end_time": "2025-03-13T00:46:58.950722",
     "exception": false,
     "start_time": "2025-03-13T00:46:34.676130",
     "status": "completed"
    },
    "tags": []
   },
   "outputs": [
    {
     "name": "stderr",
     "output_type": "stream",
     "text": [
      "/usr/local/lib/python3.10/dist-packages/pypdf/_crypt_providers/_cryptography.py:32: CryptographyDeprecationWarning: ARC4 has been moved to cryptography.hazmat.decrepit.ciphers.algorithms.ARC4 and will be removed from cryptography.hazmat.primitives.ciphers.algorithms in 48.0.0.\n",
      "  from cryptography.hazmat.primitives.ciphers.algorithms import AES, ARC4\n"
     ]
    },
    {
     "data": {
      "text/plain": [
       "<TableList n=41>"
      ]
     },
     "execution_count": 3,
     "metadata": {},
     "output_type": "execute_result"
    }
   ],
   "source": [
    "import camelot\n",
    "tables = camelot.read_pdf(\n",
    "    \"/kaggle/input/kp-formularies/postal-service-health-benefits-drug-formulary-scal-en.pdf\", \n",
    "    pages=\"all\", \n",
    "    parallel=True,\n",
    "\n",
    "    # tuned parameters\n",
    "    flavor=\"lattice\",\n",
    "    split_text=True,\n",
    "    copy_text=[\"h\",],\n",
    "    line_scale=50,\n",
    ")\n",
    "tables"
   ]
  },
  {
   "cell_type": "markdown",
   "id": "cc2fbb0d",
   "metadata": {
    "papermill": {
     "duration": 0.004882,
     "end_time": "2025-03-13T00:46:58.961038",
     "exception": false,
     "start_time": "2025-03-13T00:46:58.956156",
     "status": "completed"
    },
    "tags": []
   },
   "source": [
    "**Define Header Normalization Function**  \n",
    "   Creates a function to standardize DataFrame headers by cleaning and formatting column names."
   ]
  },
  {
   "cell_type": "code",
   "execution_count": 4,
   "id": "279edfa2",
   "metadata": {
    "execution": {
     "iopub.execute_input": "2025-03-13T00:46:58.972689Z",
     "iopub.status.busy": "2025-03-13T00:46:58.972111Z",
     "iopub.status.idle": "2025-03-13T00:46:58.978210Z",
     "shell.execute_reply": "2025-03-13T00:46:58.977074Z"
    },
    "papermill": {
     "duration": 0.013879,
     "end_time": "2025-03-13T00:46:58.980032",
     "exception": false,
     "start_time": "2025-03-13T00:46:58.966153",
     "status": "completed"
    },
    "tags": []
   },
   "outputs": [],
   "source": [
    "import re\n",
    "\n",
    "def handle_headers(data):\n",
    "    data = data.copy()\n",
    "    if type(data.columns) == pd.core.indexes.range.RangeIndex:\n",
    "        headers = data.iloc[0]\n",
    "        data.columns = [\"_\".join([chunk for chunk in re.split(\"[^a-z]\", col.lower()) if len(chunk) > 0]) \n",
    "                        for col in headers.values]\n",
    "        data = data.drop(0)\n",
    "    return data"
   ]
  },
  {
   "cell_type": "markdown",
   "id": "770f827b",
   "metadata": {
    "execution": {
     "iopub.execute_input": "2025-03-13T00:40:56.519229Z",
     "iopub.status.busy": "2025-03-13T00:40:56.518828Z",
     "iopub.status.idle": "2025-03-13T00:40:56.525970Z",
     "shell.execute_reply": "2025-03-13T00:40:56.524260Z",
     "shell.execute_reply.started": "2025-03-13T00:40:56.519197Z"
    },
    "papermill": {
     "duration": 0.004777,
     "end_time": "2025-03-13T00:46:58.990565",
     "exception": false,
     "start_time": "2025-03-13T00:46:58.985788",
     "status": "completed"
    },
    "tags": []
   },
   "source": [
    "**Preview Processed Table Headers**  \n",
    "   Applies the header normalization function to the second table and displays the result."
   ]
  },
  {
   "cell_type": "code",
   "execution_count": 5,
   "id": "020eb638",
   "metadata": {
    "execution": {
     "iopub.execute_input": "2025-03-13T00:46:59.002179Z",
     "iopub.status.busy": "2025-03-13T00:46:59.001761Z",
     "iopub.status.idle": "2025-03-13T00:46:59.034068Z",
     "shell.execute_reply": "2025-03-13T00:46:59.032965Z"
    },
    "papermill": {
     "duration": 0.040327,
     "end_time": "2025-03-13T00:46:59.035957",
     "exception": false,
     "start_time": "2025-03-13T00:46:58.995630",
     "status": "completed"
    },
    "tags": []
   },
   "outputs": [
    {
     "data": {
      "text/html": [
       "<div>\n",
       "<style scoped>\n",
       "    .dataframe tbody tr th:only-of-type {\n",
       "        vertical-align: middle;\n",
       "    }\n",
       "\n",
       "    .dataframe tbody tr th {\n",
       "        vertical-align: top;\n",
       "    }\n",
       "\n",
       "    .dataframe thead th {\n",
       "        text-align: right;\n",
       "    }\n",
       "</style>\n",
       "<table border=\"1\" class=\"dataframe\">\n",
       "  <thead>\n",
       "    <tr style=\"text-align: right;\">\n",
       "      <th></th>\n",
       "      <th>n_ame_of_drug</th>\n",
       "      <th>drug_tier</th>\n",
       "      <th>requirement_limits</th>\n",
       "    </tr>\n",
       "  </thead>\n",
       "  <tbody>\n",
       "    <tr>\n",
       "      <th>1</th>\n",
       "      <td>ANTI-INFECTIVE AGENTS</td>\n",
       "      <td>ANTI-INFECTIVE AGENTS</td>\n",
       "      <td>ANTI-INFECTIVE AGENTS</td>\n",
       "    </tr>\n",
       "    <tr>\n",
       "      <th>2</th>\n",
       "      <td>ANTHELMINTICS</td>\n",
       "      <td>ANTHELMINTICS</td>\n",
       "      <td>ANTHELMINTICS</td>\n",
       "    </tr>\n",
       "    <tr>\n",
       "      <th>3</th>\n",
       "      <td>albendazole</td>\n",
       "      <td>1</td>\n",
       "      <td></td>\n",
       "    </tr>\n",
       "    <tr>\n",
       "      <th>4</th>\n",
       "      <td>ivermectin</td>\n",
       "      <td>1</td>\n",
       "      <td></td>\n",
       "    </tr>\n",
       "    <tr>\n",
       "      <th>5</th>\n",
       "      <td>ANTIBACTERIALS</td>\n",
       "      <td>ANTIBACTERIALS</td>\n",
       "      <td>ANTIBACTERIALS</td>\n",
       "    </tr>\n",
       "  </tbody>\n",
       "</table>\n",
       "</div>"
      ],
      "text/plain": [
       "           n_ame_of_drug              drug_tier     requirement_limits\n",
       "1  ANTI-INFECTIVE AGENTS  ANTI-INFECTIVE AGENTS  ANTI-INFECTIVE AGENTS\n",
       "2          ANTHELMINTICS          ANTHELMINTICS          ANTHELMINTICS\n",
       "3            albendazole                      1                       \n",
       "4             ivermectin                      1                       \n",
       "5         ANTIBACTERIALS         ANTIBACTERIALS         ANTIBACTERIALS"
      ]
     },
     "execution_count": 5,
     "metadata": {},
     "output_type": "execute_result"
    }
   ],
   "source": [
    "handle_headers(tables[1].df).head()"
   ]
  },
  {
   "cell_type": "markdown",
   "id": "5ea32aa1",
   "metadata": {
    "papermill": {
     "duration": 0.004906,
     "end_time": "2025-03-13T00:46:59.046248",
     "exception": false,
     "start_time": "2025-03-13T00:46:59.041342",
     "status": "completed"
    },
    "tags": []
   },
   "source": [
    "**Extract Drug Tier Information Table**  \n",
    "   Processes and displays the first table containing drug tier cost details."
   ]
  },
  {
   "cell_type": "code",
   "execution_count": 6,
   "id": "4c27da39",
   "metadata": {
    "execution": {
     "iopub.execute_input": "2025-03-13T00:46:59.057953Z",
     "iopub.status.busy": "2025-03-13T00:46:59.057612Z",
     "iopub.status.idle": "2025-03-13T00:46:59.068144Z",
     "shell.execute_reply": "2025-03-13T00:46:59.067120Z"
    },
    "papermill": {
     "duration": 0.018508,
     "end_time": "2025-03-13T00:46:59.069834",
     "exception": false,
     "start_time": "2025-03-13T00:46:59.051326",
     "status": "completed"
    },
    "tags": []
   },
   "outputs": [
    {
     "data": {
      "text/html": [
       "<div>\n",
       "<style scoped>\n",
       "    .dataframe tbody tr th:only-of-type {\n",
       "        vertical-align: middle;\n",
       "    }\n",
       "\n",
       "    .dataframe tbody tr th {\n",
       "        vertical-align: top;\n",
       "    }\n",
       "\n",
       "    .dataframe thead th {\n",
       "        text-align: right;\n",
       "    }\n",
       "</style>\n",
       "<table border=\"1\" class=\"dataframe\">\n",
       "  <thead>\n",
       "    <tr style=\"text-align: right;\">\n",
       "      <th></th>\n",
       "      <th>drug_tier</th>\n",
       "      <th>type</th>\n",
       "      <th>high_option</th>\n",
       "      <th>standard_option</th>\n",
       "    </tr>\n",
       "  </thead>\n",
       "  <tbody>\n",
       "    <tr>\n",
       "      <th>1</th>\n",
       "      <td>Tier 1</td>\n",
       "      <td>Generic drugs</td>\n",
       "      <td>$10</td>\n",
       "      <td>$15</td>\n",
       "    </tr>\n",
       "    <tr>\n",
       "      <th>2</th>\n",
       "      <td>Tier 2</td>\n",
       "      <td>Preferred brand-name drugs</td>\n",
       "      <td>$40</td>\n",
       "      <td>$50</td>\n",
       "    </tr>\n",
       "    <tr>\n",
       "      <th>3</th>\n",
       "      <td>Tier 3</td>\n",
       "      <td>Non-preferred brand-name drugs</td>\n",
       "      <td>$40</td>\n",
       "      <td>$50</td>\n",
       "    </tr>\n",
       "    <tr>\n",
       "      <th>4</th>\n",
       "      <td>Tier 4</td>\n",
       "      <td>Specialty drugs</td>\n",
       "      <td>$100</td>\n",
       "      <td>$150</td>\n",
       "    </tr>\n",
       "  </tbody>\n",
       "</table>\n",
       "</div>"
      ],
      "text/plain": [
       "  drug_tier                            type high_option standard_option\n",
       "1    Tier 1                   Generic drugs         $10             $15\n",
       "2    Tier 2      Preferred brand-name drugs         $40             $50\n",
       "3    Tier 3  Non-preferred brand-name drugs         $40             $50\n",
       "4    Tier 4                 Specialty drugs        $100            $150"
      ]
     },
     "execution_count": 6,
     "metadata": {},
     "output_type": "execute_result"
    }
   ],
   "source": [
    "tier_table = handle_headers(tables[0].df)\n",
    "tier_table"
   ]
  },
  {
   "cell_type": "markdown",
   "id": "dc5ef8cc",
   "metadata": {
    "papermill": {
     "duration": 0.004919,
     "end_time": "2025-03-13T00:46:59.080284",
     "exception": false,
     "start_time": "2025-03-13T00:46:59.075365",
     "status": "completed"
    },
    "tags": []
   },
   "source": [
    "**Determine Most Frequent Column Headers**  \n",
    "   Identifies common column headers across all extracted tables for consistency."
   ]
  },
  {
   "cell_type": "code",
   "execution_count": 7,
   "id": "edec5e17",
   "metadata": {
    "execution": {
     "iopub.execute_input": "2025-03-13T00:46:59.092491Z",
     "iopub.status.busy": "2025-03-13T00:46:59.092083Z",
     "iopub.status.idle": "2025-03-13T00:46:59.128234Z",
     "shell.execute_reply": "2025-03-13T00:46:59.127273Z"
    },
    "papermill": {
     "duration": 0.044325,
     "end_time": "2025-03-13T00:46:59.129948",
     "exception": false,
     "start_time": "2025-03-13T00:46:59.085623",
     "status": "completed"
    },
    "tags": []
   },
   "outputs": [
    {
     "data": {
      "text/plain": [
       "['name_of_drug', 'drug_tier', 'requirement_limits']"
      ]
     },
     "execution_count": 7,
     "metadata": {},
     "output_type": "execute_result"
    }
   ],
   "source": [
    "cols = pd.DataFrame([handle_headers(table.df).columns.tolist() for table in tables[1:]])\n",
    "headers = cols.mode().values[0].tolist()\n",
    "headers"
   ]
  },
  {
   "cell_type": "markdown",
   "id": "eb62b094",
   "metadata": {
    "papermill": {
     "duration": 0.005146,
     "end_time": "2025-03-13T00:46:59.140551",
     "exception": false,
     "start_time": "2025-03-13T00:46:59.135405",
     "status": "completed"
    },
    "tags": []
   },
   "source": [
    "**Merge All Tables into Unified DataFrame**  \n",
    "   Standardizes headers and combines all extracted tables into a single dataset."
   ]
  },
  {
   "cell_type": "code",
   "execution_count": 8,
   "id": "e4b65fc6",
   "metadata": {
    "execution": {
     "iopub.execute_input": "2025-03-13T00:46:59.152320Z",
     "iopub.status.busy": "2025-03-13T00:46:59.151983Z",
     "iopub.status.idle": "2025-03-13T00:46:59.188888Z",
     "shell.execute_reply": "2025-03-13T00:46:59.187810Z"
    },
    "papermill": {
     "duration": 0.044811,
     "end_time": "2025-03-13T00:46:59.190643",
     "exception": false,
     "start_time": "2025-03-13T00:46:59.145832",
     "status": "completed"
    },
    "tags": []
   },
   "outputs": [
    {
     "data": {
      "text/html": [
       "<div>\n",
       "<style scoped>\n",
       "    .dataframe tbody tr th:only-of-type {\n",
       "        vertical-align: middle;\n",
       "    }\n",
       "\n",
       "    .dataframe tbody tr th {\n",
       "        vertical-align: top;\n",
       "    }\n",
       "\n",
       "    .dataframe thead th {\n",
       "        text-align: right;\n",
       "    }\n",
       "</style>\n",
       "<table border=\"1\" class=\"dataframe\">\n",
       "  <thead>\n",
       "    <tr style=\"text-align: right;\">\n",
       "      <th></th>\n",
       "      <th>name_of_drug</th>\n",
       "      <th>drug_tier</th>\n",
       "      <th>requirement_limits</th>\n",
       "    </tr>\n",
       "  </thead>\n",
       "  <tbody>\n",
       "    <tr>\n",
       "      <th>0</th>\n",
       "      <td>ANTI-INFECTIVE AGENTS</td>\n",
       "      <td>ANTI-INFECTIVE AGENTS</td>\n",
       "      <td>ANTI-INFECTIVE AGENTS</td>\n",
       "    </tr>\n",
       "    <tr>\n",
       "      <th>1</th>\n",
       "      <td>ANTHELMINTICS</td>\n",
       "      <td>ANTHELMINTICS</td>\n",
       "      <td>ANTHELMINTICS</td>\n",
       "    </tr>\n",
       "    <tr>\n",
       "      <th>2</th>\n",
       "      <td>albendazole</td>\n",
       "      <td>1</td>\n",
       "      <td></td>\n",
       "    </tr>\n",
       "    <tr>\n",
       "      <th>3</th>\n",
       "      <td>ivermectin</td>\n",
       "      <td>1</td>\n",
       "      <td></td>\n",
       "    </tr>\n",
       "    <tr>\n",
       "      <th>4</th>\n",
       "      <td>ANTIBACTERIALS</td>\n",
       "      <td>ANTIBACTERIALS</td>\n",
       "      <td>ANTIBACTERIALS</td>\n",
       "    </tr>\n",
       "    <tr>\n",
       "      <th>...</th>\n",
       "      <td>...</td>\n",
       "      <td>...</td>\n",
       "      <td>...</td>\n",
       "    </tr>\n",
       "    <tr>\n",
       "      <th>1411</th>\n",
       "      <td>VITAMIN D</td>\n",
       "      <td>VITAMIN D</td>\n",
       "      <td>VITAMIN D</td>\n",
       "    </tr>\n",
       "    <tr>\n",
       "      <th>1412</th>\n",
       "      <td>calcitriol</td>\n",
       "      <td>1</td>\n",
       "      <td></td>\n",
       "    </tr>\n",
       "    <tr>\n",
       "      <th>1413</th>\n",
       "      <td>ergocalciferol</td>\n",
       "      <td>1</td>\n",
       "      <td></td>\n",
       "    </tr>\n",
       "    <tr>\n",
       "      <th>1414</th>\n",
       "      <td>VITAMIN K ACTIVITY</td>\n",
       "      <td>VITAMIN K ACTIVITY</td>\n",
       "      <td>VITAMIN K ACTIVITY</td>\n",
       "    </tr>\n",
       "    <tr>\n",
       "      <th>1415</th>\n",
       "      <td>phytonadione \\n1, 2</td>\n",
       "      <td>phytonadione \\n1, 2</td>\n",
       "      <td>phytonadione \\n1, 2</td>\n",
       "    </tr>\n",
       "  </tbody>\n",
       "</table>\n",
       "<p>1416 rows × 3 columns</p>\n",
       "</div>"
      ],
      "text/plain": [
       "               name_of_drug              drug_tier     requirement_limits\n",
       "0     ANTI-INFECTIVE AGENTS  ANTI-INFECTIVE AGENTS  ANTI-INFECTIVE AGENTS\n",
       "1             ANTHELMINTICS          ANTHELMINTICS          ANTHELMINTICS\n",
       "2               albendazole                      1                       \n",
       "3                ivermectin                      1                       \n",
       "4            ANTIBACTERIALS         ANTIBACTERIALS         ANTIBACTERIALS\n",
       "...                     ...                    ...                    ...\n",
       "1411              VITAMIN D              VITAMIN D              VITAMIN D\n",
       "1412             calcitriol                      1                       \n",
       "1413         ergocalciferol                      1                       \n",
       "1414     VITAMIN K ACTIVITY     VITAMIN K ACTIVITY     VITAMIN K ACTIVITY\n",
       "1415    phytonadione \\n1, 2    phytonadione \\n1, 2    phytonadione \\n1, 2\n",
       "\n",
       "[1416 rows x 3 columns]"
      ]
     },
     "execution_count": 8,
     "metadata": {},
     "output_type": "execute_result"
    }
   ],
   "source": [
    "def force_headers(df, headers):\n",
    "    df = handle_headers(df)\n",
    "    df.columns = headers\n",
    "    return df\n",
    "\n",
    "data = pd.concat([force_headers(table.df, headers) for table in tables[1:]], ignore_index=True)\n",
    "data"
   ]
  },
  {
   "cell_type": "markdown",
   "id": "fede2992",
   "metadata": {
    "papermill": {
     "duration": 0.005938,
     "end_time": "2025-03-13T00:46:59.202272",
     "exception": false,
     "start_time": "2025-03-13T00:46:59.196334",
     "status": "completed"
    },
    "tags": []
   },
   "source": [
    "**Clean Whitespace in DataFrame Entries**  \n",
    "   Normalizes extra spaces in all DataFrame cells for uniformity."
   ]
  },
  {
   "cell_type": "code",
   "execution_count": 9,
   "id": "5327c9e7",
   "metadata": {
    "execution": {
     "iopub.execute_input": "2025-03-13T00:46:59.215637Z",
     "iopub.status.busy": "2025-03-13T00:46:59.215241Z",
     "iopub.status.idle": "2025-03-13T00:46:59.232655Z",
     "shell.execute_reply": "2025-03-13T00:46:59.231595Z"
    },
    "papermill": {
     "duration": 0.025426,
     "end_time": "2025-03-13T00:46:59.234294",
     "exception": false,
     "start_time": "2025-03-13T00:46:59.208868",
     "status": "completed"
    },
    "tags": []
   },
   "outputs": [
    {
     "data": {
      "text/html": [
       "<div>\n",
       "<style scoped>\n",
       "    .dataframe tbody tr th:only-of-type {\n",
       "        vertical-align: middle;\n",
       "    }\n",
       "\n",
       "    .dataframe tbody tr th {\n",
       "        vertical-align: top;\n",
       "    }\n",
       "\n",
       "    .dataframe thead th {\n",
       "        text-align: right;\n",
       "    }\n",
       "</style>\n",
       "<table border=\"1\" class=\"dataframe\">\n",
       "  <thead>\n",
       "    <tr style=\"text-align: right;\">\n",
       "      <th></th>\n",
       "      <th>name_of_drug</th>\n",
       "      <th>drug_tier</th>\n",
       "      <th>requirement_limits</th>\n",
       "    </tr>\n",
       "  </thead>\n",
       "  <tbody>\n",
       "    <tr>\n",
       "      <th>0</th>\n",
       "      <td>ANTI-INFECTIVE AGENTS</td>\n",
       "      <td>ANTI-INFECTIVE AGENTS</td>\n",
       "      <td>ANTI-INFECTIVE AGENTS</td>\n",
       "    </tr>\n",
       "    <tr>\n",
       "      <th>1</th>\n",
       "      <td>ANTHELMINTICS</td>\n",
       "      <td>ANTHELMINTICS</td>\n",
       "      <td>ANTHELMINTICS</td>\n",
       "    </tr>\n",
       "    <tr>\n",
       "      <th>2</th>\n",
       "      <td>albendazole</td>\n",
       "      <td>1</td>\n",
       "      <td></td>\n",
       "    </tr>\n",
       "    <tr>\n",
       "      <th>3</th>\n",
       "      <td>ivermectin</td>\n",
       "      <td>1</td>\n",
       "      <td></td>\n",
       "    </tr>\n",
       "    <tr>\n",
       "      <th>4</th>\n",
       "      <td>ANTIBACTERIALS</td>\n",
       "      <td>ANTIBACTERIALS</td>\n",
       "      <td>ANTIBACTERIALS</td>\n",
       "    </tr>\n",
       "    <tr>\n",
       "      <th>...</th>\n",
       "      <td>...</td>\n",
       "      <td>...</td>\n",
       "      <td>...</td>\n",
       "    </tr>\n",
       "    <tr>\n",
       "      <th>1411</th>\n",
       "      <td>VITAMIN D</td>\n",
       "      <td>VITAMIN D</td>\n",
       "      <td>VITAMIN D</td>\n",
       "    </tr>\n",
       "    <tr>\n",
       "      <th>1412</th>\n",
       "      <td>calcitriol</td>\n",
       "      <td>1</td>\n",
       "      <td></td>\n",
       "    </tr>\n",
       "    <tr>\n",
       "      <th>1413</th>\n",
       "      <td>ergocalciferol</td>\n",
       "      <td>1</td>\n",
       "      <td></td>\n",
       "    </tr>\n",
       "    <tr>\n",
       "      <th>1414</th>\n",
       "      <td>VITAMIN K ACTIVITY</td>\n",
       "      <td>VITAMIN K ACTIVITY</td>\n",
       "      <td>VITAMIN K ACTIVITY</td>\n",
       "    </tr>\n",
       "    <tr>\n",
       "      <th>1415</th>\n",
       "      <td>phytonadione 1, 2</td>\n",
       "      <td>phytonadione 1, 2</td>\n",
       "      <td>phytonadione 1, 2</td>\n",
       "    </tr>\n",
       "  </tbody>\n",
       "</table>\n",
       "<p>1416 rows × 3 columns</p>\n",
       "</div>"
      ],
      "text/plain": [
       "               name_of_drug              drug_tier     requirement_limits\n",
       "0     ANTI-INFECTIVE AGENTS  ANTI-INFECTIVE AGENTS  ANTI-INFECTIVE AGENTS\n",
       "1             ANTHELMINTICS          ANTHELMINTICS          ANTHELMINTICS\n",
       "2               albendazole                      1                       \n",
       "3                ivermectin                      1                       \n",
       "4            ANTIBACTERIALS         ANTIBACTERIALS         ANTIBACTERIALS\n",
       "...                     ...                    ...                    ...\n",
       "1411              VITAMIN D              VITAMIN D              VITAMIN D\n",
       "1412             calcitriol                      1                       \n",
       "1413         ergocalciferol                      1                       \n",
       "1414     VITAMIN K ACTIVITY     VITAMIN K ACTIVITY     VITAMIN K ACTIVITY\n",
       "1415      phytonadione 1, 2      phytonadione 1, 2      phytonadione 1, 2\n",
       "\n",
       "[1416 rows x 3 columns]"
      ]
     },
     "execution_count": 9,
     "metadata": {},
     "output_type": "execute_result"
    }
   ],
   "source": [
    "def normalize_spaces(s):\n",
    "    return \" \".join(re.split(\"\\s+\", s))\n",
    "\n",
    "data = data.map(normalize_spaces)\n",
    "data"
   ]
  },
  {
   "cell_type": "markdown",
   "id": "21269e1e",
   "metadata": {
    "papermill": {
     "duration": 0.00536,
     "end_time": "2025-03-13T00:46:59.245491",
     "exception": false,
     "start_time": "2025-03-13T00:46:59.240131",
     "status": "completed"
    },
    "tags": []
   },
   "source": [
    "**Export Processed Data to CSV**  \n",
    "Saves the cleaned and merged DataFrame to a CSV file named `out1.csv`."
   ]
  },
  {
   "cell_type": "code",
   "execution_count": 10,
   "id": "6510a672",
   "metadata": {
    "execution": {
     "iopub.execute_input": "2025-03-13T00:46:59.258453Z",
     "iopub.status.busy": "2025-03-13T00:46:59.258032Z",
     "iopub.status.idle": "2025-03-13T00:46:59.271584Z",
     "shell.execute_reply": "2025-03-13T00:46:59.270422Z"
    },
    "papermill": {
     "duration": 0.022283,
     "end_time": "2025-03-13T00:46:59.273503",
     "exception": false,
     "start_time": "2025-03-13T00:46:59.251220",
     "status": "completed"
    },
    "tags": []
   },
   "outputs": [],
   "source": [
    "data.to_csv(\"out1.csv\")"
   ]
  }
 ],
 "metadata": {
  "kaggle": {
   "accelerator": "none",
   "dataSources": [
    {
     "datasetId": 6855635,
     "sourceId": 11011231,
     "sourceType": "datasetVersion"
    }
   ],
   "dockerImageVersionId": 30919,
   "isGpuEnabled": false,
   "isInternetEnabled": true,
   "language": "python",
   "sourceType": "notebook"
  },
  "kernelspec": {
   "display_name": "Python 3",
   "language": "python",
   "name": "python3"
  },
  "language_info": {
   "codemirror_mode": {
    "name": "ipython",
    "version": 3
   },
   "file_extension": ".py",
   "mimetype": "text/x-python",
   "name": "python",
   "nbconvert_exporter": "python",
   "pygments_lexer": "ipython3",
   "version": "3.10.12"
  },
  "papermill": {
   "default_parameters": {},
   "duration": 37.262924,
   "end_time": "2025-03-13T00:47:00.202172",
   "environment_variables": {},
   "exception": null,
   "input_path": "__notebook__.ipynb",
   "output_path": "__notebook__.ipynb",
   "parameters": {},
   "start_time": "2025-03-13T00:46:22.939248",
   "version": "2.6.0"
  }
 },
 "nbformat": 4,
 "nbformat_minor": 5
}
